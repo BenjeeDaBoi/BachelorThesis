{
 "cells": [
  {
   "cell_type": "markdown",
   "metadata": {},
   "source": [
    "### Egg Training (YOLOv4)"
   ]
  },
  {
   "cell_type": "markdown",
   "metadata": {},
   "source": [
    "#### Checking whether NVIDIA GPU is enabled for future training"
   ]
  },
  {
   "cell_type": "code",
   "execution_count": 1,
   "metadata": {},
   "outputs": [
    {
     "name": "stdout",
     "output_type": "stream",
     "text": [
      "Wed May 11 16:15:18 2022       \n",
      "+-----------------------------------------------------------------------------+\n",
      "| NVIDIA-SMI 456.38       Driver Version: 456.38       CUDA Version: 11.1     |\n",
      "|-------------------------------+----------------------+----------------------+\n",
      "| GPU  Name            TCC/WDDM | Bus-Id        Disp.A | Volatile Uncorr. ECC |\n",
      "| Fan  Temp  Perf  Pwr:Usage/Cap|         Memory-Usage | GPU-Util  Compute M. |\n",
      "|===============================+======================+======================|\n",
      "|   0  GeForce MX150      WDDM  | 00000000:01:00.0 Off |                  N/A |\n",
      "| N/A   58C    P8    N/A /  N/A |    118MiB /  2048MiB |      0%      Default |\n",
      "+-------------------------------+----------------------+----------------------+\n",
      "                                                                               \n",
      "+-----------------------------------------------------------------------------+\n",
      "| Processes:                                                                  |\n",
      "|  GPU   GI   CI        PID   Type   Process name                  GPU Memory |\n",
      "|        ID   ID                                                   Usage      |\n",
      "|=============================================================================|\n",
      "|    0   N/A  N/A      9656    C+G   ...ser\\Application\\brave.exe    N/A      |\n",
      "+-----------------------------------------------------------------------------+\n"
     ]
    }
   ],
   "source": [
    "!nvidia-smi"
   ]
  },
  {
   "cell_type": "markdown",
   "metadata": {},
   "source": [
    "#### Importing & Compiling Darknet\n",
    "\n",
    "Darknet is an open source neural network framework written in C and CUDA.  \n",
    "Allows CPU & GPU computation for object detection models like YOLOv4  \n",
    "  \n",
    "Compiling Darknet to enable NVIDIA GPU for model training"
   ]
  },
  {
   "cell_type": "code",
   "execution_count": 2,
   "metadata": {},
   "outputs": [
    {
     "name": "stdout",
     "output_type": "stream",
     "text": [
      "c:\\Users\\bsora\\Documents\\GitHub\\BachelorThesis\\egg-recognition-trainer\\darknet\n"
     ]
    },
    {
     "name": "stderr",
     "output_type": "stream",
     "text": [
      "Cloning into 'darknet'...\n",
      "Updating files:  18% (374/2050)\n",
      "Updating files:  19% (390/2050)\n",
      "Updating files:  20% (410/2050)\n",
      "Updating files:  21% (431/2050)\n",
      "Updating files:  22% (451/2050)\n",
      "Updating files:  23% (472/2050)\n",
      "Updating files:  24% (492/2050)\n",
      "Updating files:  25% (513/2050)\n",
      "Updating files:  26% (533/2050)\n",
      "Updating files:  27% (554/2050)\n",
      "Updating files:  28% (574/2050)\n",
      "Updating files:  29% (595/2050)\n",
      "Updating files:  30% (615/2050)\n",
      "Updating files:  31% (636/2050)\n",
      "Updating files:  32% (656/2050)\n",
      "Updating files:  33% (677/2050)\n",
      "Updating files:  34% (697/2050)\n",
      "Updating files:  35% (718/2050)\n",
      "Updating files:  36% (738/2050)\n",
      "Updating files:  37% (759/2050)\n",
      "Updating files:  38% (779/2050)\n",
      "Updating files:  38% (785/2050)\n",
      "Updating files:  39% (800/2050)\n",
      "Updating files:  40% (820/2050)\n",
      "Updating files:  41% (841/2050)\n",
      "Updating files:  42% (861/2050)\n",
      "Updating files:  43% (882/2050)\n",
      "Updating files:  44% (902/2050)\n",
      "Updating files:  45% (923/2050)\n",
      "Updating files:  46% (943/2050)\n",
      "Updating files:  47% (964/2050)\n",
      "Updating files:  48% (984/2050)\n",
      "Updating files:  49% (1005/2050)\n",
      "Updating files:  50% (1025/2050)\n",
      "Updating files:  51% (1046/2050)\n",
      "Updating files:  52% (1066/2050)\n",
      "Updating files:  53% (1087/2050)\n",
      "Updating files:  54% (1107/2050)\n",
      "Updating files:  55% (1128/2050)\n",
      "Updating files:  55% (1134/2050)\n",
      "Updating files:  56% (1148/2050)\n",
      "Updating files:  57% (1169/2050)\n",
      "Updating files:  58% (1189/2050)\n",
      "Updating files:  59% (1210/2050)\n",
      "Updating files:  60% (1230/2050)\n",
      "Updating files:  61% (1251/2050)\n",
      "Updating files:  62% (1271/2050)\n",
      "Updating files:  63% (1292/2050)\n",
      "Updating files:  64% (1312/2050)\n",
      "Updating files:  65% (1333/2050)\n",
      "Updating files:  66% (1353/2050)\n",
      "Updating files:  67% (1374/2050)\n",
      "Updating files:  68% (1394/2050)\n",
      "Updating files:  69% (1415/2050)\n",
      "Updating files:  70% (1435/2050)\n",
      "Updating files:  71% (1456/2050)\n",
      "Updating files:  71% (1475/2050)\n",
      "Updating files:  72% (1476/2050)\n",
      "Updating files:  73% (1497/2050)\n",
      "Updating files:  74% (1517/2050)\n",
      "Updating files:  75% (1538/2050)\n",
      "Updating files:  76% (1558/2050)\n",
      "Updating files:  77% (1579/2050)\n",
      "Updating files:  78% (1599/2050)\n",
      "Updating files:  79% (1620/2050)\n",
      "Updating files:  80% (1640/2050)\n",
      "Updating files:  81% (1661/2050)\n",
      "Updating files:  82% (1681/2050)\n",
      "Updating files:  83% (1702/2050)\n",
      "Updating files:  84% (1722/2050)\n",
      "Updating files:  85% (1743/2050)\n",
      "Updating files:  86% (1763/2050)\n",
      "Updating files:  87% (1784/2050)\n",
      "Updating files:  88% (1804/2050)\n",
      "Updating files:  89% (1825/2050)\n",
      "Updating files:  90% (1845/2050)\n",
      "Updating files:  91% (1866/2050)\n",
      "Updating files:  91% (1884/2050)\n",
      "Updating files:  92% (1886/2050)\n",
      "Updating files:  93% (1907/2050)\n",
      "Updating files:  93% (1911/2050)\n",
      "Updating files:  94% (1927/2050)\n",
      "Updating files:  95% (1948/2050)\n",
      "Updating files:  96% (1968/2050)\n",
      "Updating files:  97% (1989/2050)\n",
      "Updating files:  98% (2009/2050)\n",
      "Updating files:  99% (2030/2050)\n",
      "Updating files: 100% (2050/2050)\n",
      "Updating files: 100% (2050/2050), done.\n",
      "sed: -e expression #1, char 19: unterminated `s' command\n",
      "sed: -e expression #1, char 13: unterminated `s' command\n",
      "sed: -e expression #1, char 1: unknown command: `C'\n"
     ]
    },
    {
     "ename": "",
     "evalue": "",
     "output_type": "error",
     "traceback": [
      "\u001b[1;31mCanceled future for execute_request message before replies were done"
     ]
    },
    {
     "ename": "",
     "evalue": "",
     "output_type": "error",
     "traceback": [
      "\u001b[1;31mThe Kernel crashed while executing code in the the current cell or a previous cell. Please review the code in the cell(s) to identify a possible cause of the failure. Click <a href='https://aka.ms/vscodeJupyterKernelCrash'>here</a> for more info. View Jupyter <a href='command:jupyter.viewOutput'>log</a> for further details."
     ]
    }
   ],
   "source": [
    "!git clone https://github.com/AlexeyAB/darknet\n",
    "# # #\n",
    "%cd darknet\n",
    "!sed -i \"s/OPENCV=0/OPENCV=1\" Makefile\n",
    "!sed -i \"s/GPU=0/GPU=1\" Makefile\n",
    "!sed -i \"CUDNN=0/CUDNN=1/\" Makefile\n",
    "!make"
   ]
  }
 ],
 "metadata": {
  "interpreter": {
   "hash": "802fa54331238c0de92b36adc3479dfa8a54c41aa7ed68be0bd86434996ac572"
  },
  "kernelspec": {
   "display_name": "Python 3.9.5 64-bit",
   "language": "python",
   "name": "python3"
  },
  "language_info": {
   "codemirror_mode": {
    "name": "ipython",
    "version": 3
   },
   "file_extension": ".py",
   "mimetype": "text/x-python",
   "name": "python",
   "nbconvert_exporter": "python",
   "pygments_lexer": "ipython3",
   "version": "3.9.5"
  },
  "orig_nbformat": 4
 },
 "nbformat": 4,
 "nbformat_minor": 2
}
