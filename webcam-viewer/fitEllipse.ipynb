{
 "cells": [
  {
   "cell_type": "code",
   "execution_count": 1,
   "metadata": {},
   "outputs": [],
   "source": [
    "import cv2\n",
    "import numpy as np\n",
    "import random as rng\n",
    "rng.seed(12345)"
   ]
  },
  {
   "cell_type": "code",
   "execution_count": 24,
   "metadata": {},
   "outputs": [
    {
     "data": {
      "text/plain": [
       "True"
      ]
     },
     "execution_count": 24,
     "metadata": {},
     "output_type": "execute_result"
    }
   ],
   "source": [
    "img = cv2.imread('source.PNG')\n",
    "img = cv2.cvtColor(img, cv2.COLOR_RGB2GRAY)\n",
    "img = cv2.GaussianBlur(img, (9, 9), sigmaX=2, sigmaY=2)\n",
    "# _, thresh = cv2.threshold(img, 170, 255, cv2.THRESH_BINARY)\n",
    "thresh = cv2.Canny(img, 55, 55)\n",
    "\n",
    "cv2.imwrite(\"thresh.png\", thresh)"
   ]
  },
  {
   "cell_type": "code",
   "execution_count": 25,
   "metadata": {},
   "outputs": [],
   "source": [
    "contours = cv2.findContours(thresh, cv2.RETR_EXTERNAL, cv2.CHAIN_APPROX_SIMPLE)[-2]\n",
    "\n",
    "minRect = [None]*len(contours)\n",
    "minEllipse = [None]*len(contours)\n",
    "\n",
    "#biggestEllipse\n",
    "\n",
    "for i, c in enumerate(contours):\n",
    "    minRect[i] = cv2.minAreaRect(c)\n",
    "    if c.shape[0] > 5:\n",
    "        minEllipse[i] = cv2.fitEllipse(c)"
   ]
  },
  {
   "cell_type": "code",
   "execution_count": 26,
   "metadata": {},
   "outputs": [],
   "source": [
    "drawing = np.zeros((thresh.shape[0], thresh.shape[1], 3), dtype=np.uint8)\n",
    "\n",
    "for i, c in enumerate(contours):\n",
    "    color = (rng.randint(0,256), rng.randint(0,256), rng.randint(0,256))\n",
    "    # contour\n",
    "    cv2.drawContours(drawing, contours, i, color)\n",
    "    # ellipse\n",
    "    if c.shape[0] > 5:\n",
    "        cv2.ellipse(drawing, minEllipse[i], color, 2)\n",
    "    # rotated rectangle\n",
    "    box = cv2.boxPoints(minRect[i])\n",
    "    box = np.intp(box) #np.intp: Integer used for indexing (same as C ssize_t; normally either int32 or int64)\n",
    "    cv2.drawContours(drawing, [box], 0, color)\n",
    "\n",
    "cv2.imshow('Contours', drawing)\n",
    "cv2.waitKey(0)\n",
    "cv2.destroyAllWindows()"
   ]
  },
  {
   "cell_type": "code",
   "execution_count": 16,
   "metadata": {},
   "outputs": [],
   "source": [
    "green_cnts = cv2.findContours(thresh.copy(), cv2.RETR_EXTERNAL, cv2.CHAIN_APPROX_SIMPLE)[-2]\n",
    "green_c = max(green_cnts, key=cv2.contourArea)\n",
    "ellipse = cv2.fitEllipse(green_c)"
   ]
  },
  {
   "cell_type": "code",
   "execution_count": 17,
   "metadata": {},
   "outputs": [
    {
     "name": "stdout",
     "output_type": "stream",
     "text": [
      "((67.5250244140625, 93.55924224853516), (5.887569427490234, 11.933313369750977), 24.060955047607422)\n"
     ]
    }
   ],
   "source": [
    "print(ellipse)"
   ]
  },
  {
   "cell_type": "code",
   "execution_count": 13,
   "metadata": {},
   "outputs": [
    {
     "ename": "error",
     "evalue": "OpenCV(4.6.0) :-1: error: (-5:Bad argument) in function 'imshow'\n> Overload resolution failed:\n>  - mat is not a numerical tuple\n>  - Expected Ptr<cv::cuda::GpuMat> for argument 'mat'\n>  - Expected Ptr<cv::UMat> for argument 'mat'\n",
     "output_type": "error",
     "traceback": [
      "\u001b[1;31m---------------------------------------------------------------------------\u001b[0m",
      "\u001b[1;31merror\u001b[0m                                     Traceback (most recent call last)",
      "\u001b[1;32m~\\AppData\\Local\\Temp/ipykernel_28624/122776253.py\u001b[0m in \u001b[0;36m<module>\u001b[1;34m\u001b[0m\n\u001b[1;32m----> 1\u001b[1;33m \u001b[0mcv2\u001b[0m\u001b[1;33m.\u001b[0m\u001b[0mimshow\u001b[0m\u001b[1;33m(\u001b[0m\u001b[1;34m'Test Image'\u001b[0m\u001b[1;33m,\u001b[0m \u001b[0mellipse\u001b[0m\u001b[1;33m)\u001b[0m\u001b[1;33m\u001b[0m\u001b[1;33m\u001b[0m\u001b[0m\n\u001b[0m\u001b[0;32m      2\u001b[0m \u001b[0mcv2\u001b[0m\u001b[1;33m.\u001b[0m\u001b[0mwaitKey\u001b[0m\u001b[1;33m(\u001b[0m\u001b[1;36m0\u001b[0m\u001b[1;33m)\u001b[0m\u001b[1;33m\u001b[0m\u001b[1;33m\u001b[0m\u001b[0m\n\u001b[0;32m      3\u001b[0m \u001b[0mcv2\u001b[0m\u001b[1;33m.\u001b[0m\u001b[0mdestroyAllWindows\u001b[0m\u001b[1;33m(\u001b[0m\u001b[1;36m0\u001b[0m\u001b[1;33m)\u001b[0m\u001b[1;33m\u001b[0m\u001b[1;33m\u001b[0m\u001b[0m\n",
      "\u001b[1;31merror\u001b[0m: OpenCV(4.6.0) :-1: error: (-5:Bad argument) in function 'imshow'\n> Overload resolution failed:\n>  - mat is not a numerical tuple\n>  - Expected Ptr<cv::cuda::GpuMat> for argument 'mat'\n>  - Expected Ptr<cv::UMat> for argument 'mat'\n"
     ]
    }
   ],
   "source": [
    "cv2.imshow('Test Image', ellipse)\n",
    "cv2.waitKey(0)\n",
    "cv2.destroyAllWindows(0)"
   ]
  }
 ],
 "metadata": {
  "interpreter": {
   "hash": "366801037ae6f526dc29e141ec71dc71e1fc4c0521f04b86e91afa7c89b36b56"
  },
  "kernelspec": {
   "display_name": "Python 3.9.5 64-bit",
   "language": "python",
   "name": "python3"
  },
  "language_info": {
   "codemirror_mode": {
    "name": "ipython",
    "version": 3
   },
   "file_extension": ".py",
   "mimetype": "text/x-python",
   "name": "python",
   "nbconvert_exporter": "python",
   "pygments_lexer": "ipython3",
   "version": "3.9.5"
  },
  "orig_nbformat": 4
 },
 "nbformat": 4,
 "nbformat_minor": 2
}
