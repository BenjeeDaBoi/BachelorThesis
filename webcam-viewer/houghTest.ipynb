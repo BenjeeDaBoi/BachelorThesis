{
 "cells": [
  {
   "cell_type": "code",
   "execution_count": 113,
   "metadata": {},
   "outputs": [],
   "source": [
    "import matplotlib.pyplot as plt\n",
    "import numpy as np\n",
    "import cv2\n",
    "\n",
    "from skimage import color, img_as_ubyte, io\n",
    "from skimage.feature import canny\n",
    "from skimage.transform import hough_ellipse, resize\n",
    "from skimage.draw import ellipse_perimeter\n",
    "from skimage.filters import gaussian\n",
    "\n",
    "# Load picture, convert to grayscale and detect edges\n",
    "image_rgb = io.imread(\"eggSample59.png\")[:,:,:3]\n",
    "image_gray = cv2.cvtColor(image_rgb, cv2.COLOR_BGR2GRAY)\n",
    "image_gaussian = cv2.GaussianBlur(image_gray, (9, 9), 1)\n",
    "image_gaussian = cv2.Canny(image_gaussian, 20, 20)\n",
    "# image_gray = cv2.cvtColor(image_gaussian, cv2.COLOR_)\n",
    "# image_gaussian = gaussian(image_gray, sigma = 0.7)\n",
    "\n",
    "cv2.imshow('Test', image_gaussian)\n",
    "cv2.waitKey(0)\n",
    "cv2.destroyAllWindows()"
   ]
  },
  {
   "cell_type": "code",
   "execution_count": 107,
   "metadata": {},
   "outputs": [],
   "source": [
    "cimg = cv2.cvtColor(image_gaussian,cv2.COLOR_GRAY2BGR)\n",
    "circles = cv2.HoughCircles(image_gaussian,cv2.HOUGH_GRADIENT,1,20, param1=50,param2=20,minRadius=30,maxRadius=50)\n",
    "circles = np.uint16(np.around(circles))\n",
    "for i in circles[0,:]:\n",
    "    # draw the outer circle\n",
    "    cv2.circle(cimg,(i[0],i[1]),i[2],(0,255,0),2)\n",
    "    # draw the center of the circle\n",
    "    cv2.circle(cimg,(i[0],i[1]),2,(0,0,255),3)\n",
    "cv2.imshow('detected circles',cimg)\n",
    "cv2.waitKey(0)\n",
    "cv2.destroyAllWindows()"
   ]
  },
  {
   "cell_type": "code",
   "execution_count": 56,
   "metadata": {},
   "outputs": [
    {
     "name": "stdout",
     "output_type": "stream",
     "text": [
      "[[[154 106  29]]]\n"
     ]
    }
   ],
   "source": [
    "print(circles)"
   ]
  },
  {
   "cell_type": "code",
   "execution_count": 18,
   "metadata": {},
   "outputs": [
    {
     "name": "stdout",
     "output_type": "stream",
     "text": [
      "Result:  [(101, 1.5, 101. ,   0.        , 100.00124999, 3.1365927 )\n",
      " (101, 1.5, 237. , 100.00124999,   0.        , 1.57579629)\n",
      " (101, 1.5, 239.5, 100.50124377,   0.        , 1.57577141) ...\n",
      " (211, 1.5, 170.5,   0.        , 169.50073746, 3.13864281)\n",
      " (212, 1.5, 170.5, 169.50073746,   0.        , 1.57374617)\n",
      " (212, 1.5, 171. , 169.00073964,   0.        , 1.5737549 )]\n"
     ]
    },
    {
     "ename": "IndexError",
     "evalue": "index 342 is out of bounds for axis 1 with size 342",
     "output_type": "error",
     "traceback": [
      "\u001b[1;31m---------------------------------------------------------------------------\u001b[0m",
      "\u001b[1;31mIndexError\u001b[0m                                Traceback (most recent call last)",
      "\u001b[1;32m~\\AppData\\Local\\Temp/ipykernel_22796/2588676035.py\u001b[0m in \u001b[0;36m<module>\u001b[1;34m\u001b[0m\n\u001b[0;32m     15\u001b[0m \u001b[1;31m# Draw the ellipse on the original image\u001b[0m\u001b[1;33m\u001b[0m\u001b[1;33m\u001b[0m\u001b[1;33m\u001b[0m\u001b[0m\n\u001b[0;32m     16\u001b[0m \u001b[0mcy\u001b[0m\u001b[1;33m,\u001b[0m \u001b[0mcx\u001b[0m \u001b[1;33m=\u001b[0m \u001b[0mellipse_perimeter\u001b[0m\u001b[1;33m(\u001b[0m\u001b[0myc\u001b[0m\u001b[1;33m,\u001b[0m \u001b[0mxc\u001b[0m\u001b[1;33m,\u001b[0m \u001b[0ma\u001b[0m\u001b[1;33m,\u001b[0m \u001b[0mb\u001b[0m\u001b[1;33m,\u001b[0m \u001b[0morientation\u001b[0m\u001b[1;33m)\u001b[0m\u001b[1;33m\u001b[0m\u001b[1;33m\u001b[0m\u001b[0m\n\u001b[1;32m---> 17\u001b[1;33m \u001b[0mimage_rgb\u001b[0m\u001b[1;33m[\u001b[0m\u001b[0mcy\u001b[0m\u001b[1;33m,\u001b[0m \u001b[0mcx\u001b[0m\u001b[1;33m]\u001b[0m \u001b[1;33m=\u001b[0m \u001b[1;33m(\u001b[0m\u001b[1;36m0\u001b[0m\u001b[1;33m,\u001b[0m \u001b[1;36m0\u001b[0m\u001b[1;33m,\u001b[0m \u001b[1;36m255\u001b[0m\u001b[1;33m)\u001b[0m\u001b[1;33m\u001b[0m\u001b[1;33m\u001b[0m\u001b[0m\n\u001b[0m\u001b[0;32m     18\u001b[0m \u001b[1;31m# Draw the edge (white) and the resulting ellipse (red)\u001b[0m\u001b[1;33m\u001b[0m\u001b[1;33m\u001b[0m\u001b[1;33m\u001b[0m\u001b[0m\n\u001b[0;32m     19\u001b[0m \u001b[0medges\u001b[0m \u001b[1;33m=\u001b[0m \u001b[0mcolor\u001b[0m\u001b[1;33m.\u001b[0m\u001b[0mgray2rgb\u001b[0m\u001b[1;33m(\u001b[0m\u001b[0mimg_as_ubyte\u001b[0m\u001b[1;33m(\u001b[0m\u001b[0medges\u001b[0m\u001b[1;33m)\u001b[0m\u001b[1;33m)\u001b[0m\u001b[1;33m\u001b[0m\u001b[1;33m\u001b[0m\u001b[0m\n",
      "\u001b[1;31mIndexError\u001b[0m: index 342 is out of bounds for axis 1 with size 342"
     ]
    }
   ],
   "source": [
    "# Perform a Hough Transform\n",
    "# The accuracy corresponds to the bin size of a major axis.\n",
    "# The value is chosen in order to get a single high accumulator.\n",
    "# The threshold eliminates low accumulators\n",
    "result = hough_ellipse(edges, accuracy=1, threshold=100, min_size=30, max_size=70)\n",
    "result.sort(order='accumulator')\n",
    "\n",
    "print(\"Result: \", result)\n",
    "\n",
    "# Estimated parameters for the ellipse\n",
    "best = list(result[-1])\n",
    "yc, xc, a, b = [int(round(x)) for x in best[1:5]]\n",
    "orientation = best[5]\n",
    "\n",
    "# Draw the ellipse on the original image\n",
    "cy, cx = ellipse_perimeter(yc, xc, a, b, orientation)\n",
    "image_rgb[cy, cx] = (0, 0, 255)\n",
    "# Draw the edge (white) and the resulting ellipse (red)\n",
    "edges = color.gray2rgb(img_as_ubyte(edges))\n",
    "edges[cy, cx] = (250, 0, 0)\n",
    "\n",
    "fig2, (ax1, ax2) = plt.subplots(ncols=2, nrows=1, figsize=(8, 4),\n",
    "                                sharex=True, sharey=True)\n",
    "\n",
    "ax1.set_title('Original picture')\n",
    "ax1.imshow(image_rgb)\n",
    "\n",
    "ax2.set_title('Edge (white) and result (red)')\n",
    "ax2.imshow(edges)\n",
    "\n",
    "plt.show()"
   ]
  },
  {
   "cell_type": "code",
   "execution_count": 19,
   "metadata": {},
   "outputs": [
    {
     "name": "stdout",
     "output_type": "stream",
     "text": [
      "1461\n"
     ]
    }
   ],
   "source": [
    "print(result.size)"
   ]
  },
  {
   "cell_type": "code",
   "execution_count": null,
   "metadata": {},
   "outputs": [],
   "source": [
    "# 234315 - 5, 50\n",
    "# 1402 - 5, 150\n",
    "# None - 1, 150\n",
    "# None - 1, 100\n",
    "# 500 - 1, 50\n",
    "# 42 - 1, 90\n",
    "# 9 - 1, 100"
   ]
  }
 ],
 "metadata": {
  "interpreter": {
   "hash": "366801037ae6f526dc29e141ec71dc71e1fc4c0521f04b86e91afa7c89b36b56"
  },
  "kernelspec": {
   "display_name": "Python 3.9.5 64-bit",
   "language": "python",
   "name": "python3"
  },
  "language_info": {
   "codemirror_mode": {
    "name": "ipython",
    "version": 3
   },
   "file_extension": ".py",
   "mimetype": "text/x-python",
   "name": "python",
   "nbconvert_exporter": "python",
   "pygments_lexer": "ipython3",
   "version": "3.9.5"
  },
  "orig_nbformat": 4
 },
 "nbformat": 4,
 "nbformat_minor": 2
}
