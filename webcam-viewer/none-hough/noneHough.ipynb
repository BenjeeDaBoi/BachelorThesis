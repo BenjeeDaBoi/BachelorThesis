{
 "cells": [
  {
   "cell_type": "code",
   "execution_count": 9,
   "metadata": {},
   "outputs": [],
   "source": [
    "import cv2\n",
    "import numpy as np"
   ]
  },
  {
   "cell_type": "code",
   "execution_count": 10,
   "metadata": {},
   "outputs": [],
   "source": [
    "img = cv2.imread(\"source.PNG\")\n",
    "gaussianImg = cv2.GaussianBlur(img, (9, 9), sigmaX=2, sigmaY=2)\n",
    "borderSize = 20"
   ]
  },
  {
   "cell_type": "code",
   "execution_count": 11,
   "metadata": {},
   "outputs": [],
   "source": [
    "hsvImg = cv2.cvtColor(gaussianImg, cv2.COLOR_BGR2HSV)\n",
    "threshold, bwImg = cv2.threshold(hsvImg[:, :, 2], 0, 255, cv2.THRESH_OTSU)\n",
    "ellipseKernel = cv2.getStructuringElement(cv2.MORPH_ELLIPSE, (3, 3))\n",
    "morphedImg = cv2.morphologyEx(bwImg, cv2.MORPH_CLOSE, ellipseKernel)\n",
    "distTransformImg = cv2.distanceTransform(morphedImg, cv2.DIST_L2, cv2.DIST_MASK_PRECISE)\n",
    "distBorder = cv2.copyMakeBorder(distTransformImg, borderSize, borderSize, borderSize, borderSize, cv2.BORDER_CONSTANT | cv2.BORDER_ISOLATED, 0)"
   ]
  },
  {
   "cell_type": "code",
   "execution_count": 12,
   "metadata": {},
   "outputs": [],
   "source": [
    "gap = 10\n",
    "ellipseKernelTwo = cv2.getStructuringElement(cv2.MORPH_ELLIPSE, (2 * (borderSize - gap) + 1, 2 * (borderSize - gap) + 1))\n",
    "ellipseKernelTwo = cv2.copyMakeBorder(ellipseKernelTwo, gap, gap, gap, gap, cv2.BORDER_CONSTANT | cv2.BORDER_ISOLATED, 0)"
   ]
  },
  {
   "cell_type": "code",
   "execution_count": 13,
   "metadata": {},
   "outputs": [],
   "source": [
    "distTransformTemp = cv2.distanceTransform(ellipseKernelTwo, cv2.DIST_L2, cv2.DIST_MASK_PRECISE)\n",
    "nxcor = cv2.matchTemplate(distBorder, distTransformTemp, cv2.TM_CCOEFF_NORMED)\n",
    "\n",
    "mn, mx, _, _ = cv2.minMaxLoc(nxcor)\n",
    "threshold, peaks = cv2.threshold(nxcor, mx * 0.3, 255, cv2.THRESH_BINARY)\n",
    "peaksScaledAbs = cv2.convertScaleAbs(peaks)"
   ]
  },
  {
   "cell_type": "code",
   "execution_count": 14,
   "metadata": {},
   "outputs": [],
   "source": [
    "contours, hierarchy = cv2.findContours(peaksScaledAbs, cv2.RETR_CCOMP, cv2.CHAIN_APPROX_SIMPLE)"
   ]
  },
  {
   "cell_type": "code",
   "execution_count": 15,
   "metadata": {},
   "outputs": [
    {
     "name": "stdout",
     "output_type": "stream",
     "text": [
      "Found!\n",
      "Found!\n",
      "Found!\n",
      "Found!\n",
      "Found!\n",
      "Found!\n",
      "Found!\n",
      "Found!\n",
      "Found!\n",
      "Found!\n",
      "Found!\n",
      "Found!\n",
      "Found!\n",
      "Found!\n",
      "Found!\n"
     ]
    }
   ],
   "source": [
    "for index in range(len(contours)):\n",
    "    \n",
    "    contour = contours[index]\n",
    "    (x, y), radius = cv2.minEnclosingCircle(contour)\n",
    "    radius = int(radius)\n",
    "    \n",
    "    (x, y, w, h) = cv2.boundingRect(contour)\n",
    "    \n",
    "    if len(contour) >= 5:\n",
    "        ellipse = cv2.fitEllipse(contour)\n",
    "        (center, axis, angle) = ellipse\n",
    "        coordXContour, coordYContour = int(center[0]), int(center[1])\n",
    "        print(\"Found!\")\n",
    "    "
   ]
  },
  {
   "cell_type": "code",
   "execution_count": 16,
   "metadata": {},
   "outputs": [],
   "source": [
    "cv2.imshow('Raw Image', bwImg)\n",
    "cv2.imshow('Morphed Ellipse', morphedImg)\n",
    "cv2.imshow('Distance Transform', distTransformImg)\n",
    "cv2.imshow('Distance Bordering', distBorder)\n",
    "cv2.imshow('NXCor', nxcor)\n",
    "cv2.imshow('Peaks Scaled Abs w/ Threshold', peaksScaledAbs)\n",
    "cv2.waitKey(0)\n",
    "cv2.destroyAllWindows()"
   ]
  }
 ],
 "metadata": {
  "interpreter": {
   "hash": "366801037ae6f526dc29e141ec71dc71e1fc4c0521f04b86e91afa7c89b36b56"
  },
  "kernelspec": {
   "display_name": "Python 3.9.5 64-bit",
   "language": "python",
   "name": "python3"
  },
  "language_info": {
   "codemirror_mode": {
    "name": "ipython",
    "version": 3
   },
   "file_extension": ".py",
   "mimetype": "text/x-python",
   "name": "python",
   "nbconvert_exporter": "python",
   "pygments_lexer": "ipython3",
   "version": "3.9.5"
  },
  "orig_nbformat": 4
 },
 "nbformat": 4,
 "nbformat_minor": 2
}
