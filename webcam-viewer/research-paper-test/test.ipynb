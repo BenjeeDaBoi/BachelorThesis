{
 "cells": [
  {
   "cell_type": "code",
   "execution_count": 13,
   "metadata": {},
   "outputs": [],
   "source": [
    "# The citrus counting algorithm consisted of the following steps:\n",
    "# 1.) convert RGB image to HSV\n",
    "# 2.) thresholding\n",
    "# 3.) orange color detection\n",
    "# 4.) noise removal\n",
    "# 5.) watershed segmentation\n",
    "# 6.) counting"
   ]
  },
  {
   "cell_type": "code",
   "execution_count": 14,
   "metadata": {},
   "outputs": [],
   "source": [
    "import numpy as np\n",
    "import cv2"
   ]
  },
  {
   "cell_type": "code",
   "execution_count": 15,
   "metadata": {},
   "outputs": [],
   "source": [
    "img = cv2.imread('source.PNG')\n",
    "hsv = cv2.cvtColor(img, cv2.COLOR_BGR2HSV)\n",
    "thresh, bwImg = cv2.threshold(hsv, 150, 255, cv2.THRESH_BINARY)\n",
    "\n",
    "lower = np.array([165, 165, 165])\n",
    "upper = np.array([255, 255, 255])\n",
    "\n",
    "mask = cv2.inRange(img, lower, upper)\n",
    "segmented_img = cv2.bitwise_and(img, img, mask=mask)\n",
    "\n",
    "\n",
    "cv2.imshow('Mask', segmented_img)\n",
    "cv2.imshow('Thresh', bwImg)\n",
    "cv2.waitKey(0)\n",
    "cv2.destroyAllWindows()"
   ]
  }
 ],
 "metadata": {
  "interpreter": {
   "hash": "366801037ae6f526dc29e141ec71dc71e1fc4c0521f04b86e91afa7c89b36b56"
  },
  "kernelspec": {
   "display_name": "Python 3.9.5 64-bit",
   "language": "python",
   "name": "python3"
  },
  "language_info": {
   "codemirror_mode": {
    "name": "ipython",
    "version": 3
   },
   "file_extension": ".py",
   "mimetype": "text/x-python",
   "name": "python",
   "nbconvert_exporter": "python",
   "pygments_lexer": "ipython3",
   "version": "3.9.5"
  },
  "orig_nbformat": 4
 },
 "nbformat": 4,
 "nbformat_minor": 2
}
