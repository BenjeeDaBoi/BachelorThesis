{
 "cells": [
  {
   "cell_type": "code",
   "execution_count": 9,
   "metadata": {},
   "outputs": [],
   "source": [
    "import cv2\n",
    "import numpy as np\n",
    "  \n",
    "# Read image.\n",
    "img = cv2.imread('testimage.png', cv2.IMREAD_COLOR)\n",
    "  \n",
    "# Convert to grayscale.\n",
    "gray = cv2.cvtColor(img, cv2.COLOR_BGR2GRAY)\n",
    "  \n",
    "# Blur using 3 * 3 kernel.\n",
    "gray_blurred = cv2.blur(gray, (3, 3))\n",
    "  \n",
    "# Apply Hough transform on the blurred image.\n",
    "detected_circles = cv2.HoughCircles(gray_blurred, \n",
    "                   cv2.HOUGH_GRADIENT, 1, 20, param1 = 50,\n",
    "               param2 = 30, minRadius = 1, maxRadius = 40)\n",
    "  \n",
    "# Draw circles that are detected.\n",
    "if detected_circles is not None:\n",
    "  \n",
    "    # Convert the circle parameters a, b and r to integers.\n",
    "    detected_circles = np.uint16(np.around(detected_circles))\n",
    "  \n",
    "    for pt in detected_circles[0, :]:\n",
    "        a, b, r = pt[0], pt[1], pt[2]\n",
    "  \n",
    "        # Draw the circumference of the circle.\n",
    "        cv2.circle(img, (a, b), r, (0, 255, 0), 2)\n",
    "  \n",
    "        # Draw a small circle (of radius 1) to show the center.\n",
    "        cv2.circle(img, (a, b), 1, (0, 0, 255), 3)\n",
    "        cv2.imshow(\"Detected Circle\", img)\n",
    "        cv2.waitKey(0)"
   ]
  }
 ],
 "metadata": {
  "interpreter": {
   "hash": "802fa54331238c0de92b36adc3479dfa8a54c41aa7ed68be0bd86434996ac572"
  },
  "kernelspec": {
   "display_name": "Python 3.9.5 64-bit",
   "language": "python",
   "name": "python3"
  },
  "language_info": {
   "codemirror_mode": {
    "name": "ipython",
    "version": 3
   },
   "file_extension": ".py",
   "mimetype": "text/x-python",
   "name": "python",
   "nbconvert_exporter": "python",
   "pygments_lexer": "ipython3",
   "version": "3.9.5"
  },
  "orig_nbformat": 4
 },
 "nbformat": 4,
 "nbformat_minor": 2
}
