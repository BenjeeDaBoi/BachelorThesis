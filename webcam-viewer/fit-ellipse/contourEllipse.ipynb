{
 "cells": [
  {
   "cell_type": "code",
   "execution_count": 8,
   "metadata": {},
   "outputs": [
    {
     "ename": "error",
     "evalue": "OpenCV(4.6.0) d:\\a\\opencv-python\\opencv-python\\opencv\\modules\\imgproc\\src\\color.simd_helpers.hpp:92: error: (-2:Unspecified error) in function '__cdecl cv::impl::`anonymous-namespace'::CvtHelper<struct cv::impl::`anonymous namespace'::Set<3,4,-1>,struct cv::impl::A0xf2302844::Set<1,-1,-1>,struct cv::impl::A0xf2302844::Set<0,2,5>,2>::CvtHelper(const class cv::_InputArray &,const class cv::_OutputArray &,int)'\n> Invalid number of channels in input image:\n>     'VScn::contains(scn)'\n> where\n>     'scn' is 1\n",
     "output_type": "error",
     "traceback": [
      "\u001b[1;31m---------------------------------------------------------------------------\u001b[0m",
      "\u001b[1;31merror\u001b[0m                                     Traceback (most recent call last)",
      "\u001b[1;32m~\\AppData\\Local\\Temp/ipykernel_19688/3498395268.py\u001b[0m in \u001b[0;36m<module>\u001b[1;34m\u001b[0m\n\u001b[0;32m     57\u001b[0m \u001b[0msrc\u001b[0m \u001b[1;33m=\u001b[0m \u001b[0mcv2\u001b[0m\u001b[1;33m.\u001b[0m\u001b[0minRange\u001b[0m\u001b[1;33m(\u001b[0m\u001b[0msrc\u001b[0m\u001b[1;33m,\u001b[0m \u001b[0mlower\u001b[0m\u001b[1;33m,\u001b[0m \u001b[0mupper\u001b[0m\u001b[1;33m)\u001b[0m\u001b[1;33m\u001b[0m\u001b[1;33m\u001b[0m\u001b[0m\n\u001b[0;32m     58\u001b[0m \u001b[1;31m# Convert image to gray and blur it\u001b[0m\u001b[1;33m\u001b[0m\u001b[1;33m\u001b[0m\u001b[1;33m\u001b[0m\u001b[0m\n\u001b[1;32m---> 59\u001b[1;33m \u001b[0msrc_gray\u001b[0m \u001b[1;33m=\u001b[0m \u001b[0mcv2\u001b[0m\u001b[1;33m.\u001b[0m\u001b[0mcvtColor\u001b[0m\u001b[1;33m(\u001b[0m\u001b[0msrc\u001b[0m\u001b[1;33m,\u001b[0m \u001b[0mcv2\u001b[0m\u001b[1;33m.\u001b[0m\u001b[0mCOLOR_BGR2GRAY\u001b[0m\u001b[1;33m)\u001b[0m\u001b[1;33m\u001b[0m\u001b[1;33m\u001b[0m\u001b[0m\n\u001b[0m\u001b[0;32m     60\u001b[0m \u001b[0msrc_gray\u001b[0m \u001b[1;33m=\u001b[0m \u001b[0mcv2\u001b[0m\u001b[1;33m.\u001b[0m\u001b[0mGaussianBlur\u001b[0m\u001b[1;33m(\u001b[0m\u001b[0msrc\u001b[0m\u001b[1;33m,\u001b[0m \u001b[1;33m(\u001b[0m\u001b[1;36m9\u001b[0m\u001b[1;33m,\u001b[0m \u001b[1;36m9\u001b[0m\u001b[1;33m)\u001b[0m\u001b[1;33m,\u001b[0m \u001b[0msigmaX\u001b[0m\u001b[1;33m=\u001b[0m\u001b[1;36m2\u001b[0m\u001b[1;33m,\u001b[0m \u001b[0msigmaY\u001b[0m\u001b[1;33m=\u001b[0m\u001b[1;36m2\u001b[0m\u001b[1;33m)\u001b[0m\u001b[1;33m\u001b[0m\u001b[1;33m\u001b[0m\u001b[0m\n\u001b[0;32m     61\u001b[0m \u001b[0msource_window\u001b[0m \u001b[1;33m=\u001b[0m \u001b[1;34m'Source'\u001b[0m\u001b[1;33m\u001b[0m\u001b[1;33m\u001b[0m\u001b[0m\n",
      "\u001b[1;31merror\u001b[0m: OpenCV(4.6.0) d:\\a\\opencv-python\\opencv-python\\opencv\\modules\\imgproc\\src\\color.simd_helpers.hpp:92: error: (-2:Unspecified error) in function '__cdecl cv::impl::`anonymous-namespace'::CvtHelper<struct cv::impl::`anonymous namespace'::Set<3,4,-1>,struct cv::impl::A0xf2302844::Set<1,-1,-1>,struct cv::impl::A0xf2302844::Set<0,2,5>,2>::CvtHelper(const class cv::_InputArray &,const class cv::_OutputArray &,int)'\n> Invalid number of channels in input image:\n>     'VScn::contains(scn)'\n> where\n>     'scn' is 1\n"
     ]
    }
   ],
   "source": [
    "from __future__ import print_function\n",
    "import cv2\n",
    "import numpy as np\n",
    "import random as rng\n",
    "import math\n",
    "\n",
    "rng.seed(12345)\n",
    "\n",
    "def thresh_callback(val):\n",
    "    threshold = val\n",
    "    \n",
    "    canny_output = cv2.Canny(src_gray, threshold, threshold)\n",
    "    \n",
    "    \n",
    "    contours, _ = cv2.findContours(canny_output, cv2.RETR_TREE, cv2.CHAIN_APPROX_SIMPLE)\n",
    "    \n",
    "    # Find the rotated rectangles and ellipses for each contour\n",
    "    minRect = [None]*len(contours)\n",
    "    minEllipse = [None]*len(contours)\n",
    "    for i, c in enumerate(contours):\n",
    "        minRect[i] = cv2.minAreaRect(c)\n",
    "        if c.shape[0] > 5:\n",
    "            minEllipse[i] = cv2.fitEllipse(c)\n",
    "    # Draw contours + rotated rects + ellipses\n",
    "    \n",
    "    drawing = src.copy() # np.zeros((src.shape[0], src.shape[1], 3), dtype=np.uint8)\n",
    "    biggestEllipseArea = -1\n",
    "    biggestEllipseIndex = -1\n",
    "        \n",
    "    for i, c in enumerate(contours):\n",
    "        color = (rng.randint(0,256), rng.randint(0,256), rng.randint(0,256))\n",
    "        # contour\n",
    "        # cv2.drawContours(drawing, contours, i, color)\n",
    "        # ellipse\n",
    "\n",
    "        if c.shape[0] > 5:\n",
    "            print(minEllipse[i][1])\n",
    "            calcTemp = float(minEllipse[i][1][0]) * float(minEllipse[i][1][1]) * math.pi\n",
    "            if calcTemp > biggestEllipseArea:\n",
    "                biggestEllipseArea = calcTemp\n",
    "                biggestEllipseIndex = i\n",
    "            \n",
    "        # rotated rectangle\n",
    "        \n",
    "        # box = cv2.boxPoints(minRect[i])\n",
    "        # box = np.intp(box) #np.intp: Integer used for indexing (same as C ssize_t; normally either int32 or int64)\n",
    "        # cv2.drawContours(drawing, [box], 0, color)\n",
    "\n",
    "    cv2.ellipse(drawing, minEllipse[biggestEllipseIndex], color, 2)\n",
    "    cv2.imshow('Contours', drawing)\n",
    "    \n",
    "    return \n",
    "  \n",
    "src = cv2.imread('source.PNG')\n",
    "# Convert image to gray and blur it\n",
    "src_gray = cv2.cvtColor(src, cv2.COLOR_BGR2GRAY)\n",
    "src_gray = cv2.GaussianBlur(src, (9, 9), sigmaX=2, sigmaY=2)\n",
    "source_window = 'Source'\n",
    "cv2.namedWindow(source_window)\n",
    "cv2.imshow(source_window, src)\n",
    "max_thresh = 255\n",
    "thresh = 65 # initial threshold\n",
    "cv2.createTrackbar('Canny Thresh:', source_window, thresh, max_thresh, thresh_callback)\n",
    "thresh_callback(thresh)\n",
    "cv2.waitKey(0)\n",
    "cv2.destroyAllWindows()"
   ]
  }
 ],
 "metadata": {
  "interpreter": {
   "hash": "366801037ae6f526dc29e141ec71dc71e1fc4c0521f04b86e91afa7c89b36b56"
  },
  "kernelspec": {
   "display_name": "Python 3.9.5 64-bit",
   "language": "python",
   "name": "python3"
  },
  "language_info": {
   "codemirror_mode": {
    "name": "ipython",
    "version": 3
   },
   "file_extension": ".py",
   "mimetype": "text/x-python",
   "name": "python",
   "nbconvert_exporter": "python",
   "pygments_lexer": "ipython3",
   "version": "3.9.5"
  },
  "orig_nbformat": 4
 },
 "nbformat": 4,
 "nbformat_minor": 2
}
