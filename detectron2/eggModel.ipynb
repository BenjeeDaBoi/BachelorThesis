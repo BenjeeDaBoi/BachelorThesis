{
  "cells": [
    {
      "cell_type": "markdown",
      "metadata": {
        "id": "gcHujewbmcZx"
      },
      "source": [
        "## Faster R-CNN Model Training"
      ]
    },
    {
      "cell_type": "markdown",
      "metadata": {},
      "source": [
        "geschrieben von Benjamin H.<br>\n",
        "Studiengang: Informatik - Software & Information Engineering<br>\n",
        "6. Semester - Sommersemester 2022"
      ]
    },
    {
      "cell_type": "markdown",
      "metadata": {
        "id": "5WtGhkcnmcZz"
      },
      "source": [
        "### Installation von wichtigen Modulen für KI"
      ]
    },
    {
      "cell_type": "code",
      "execution_count": null,
      "metadata": {
        "colab": {
          "base_uri": "https://localhost:8080/"
        },
        "id": "gyvC8RhLmcZ0",
        "outputId": "a6954f2d-48d7-4fbe-c606-35ed2b80f668"
      },
      "outputs": [],
      "source": [
        "# PyTorch & TorchVision\n",
        "!pip install -U torch==1.5 torchvision==0.6 -f https://download.pytorch.org/whl/cu101/torch_stable.html \n",
        "# Cython & PyYAML\n",
        "!pip install cython pyyaml==5.1\n",
        "# COCOAPI\n",
        "!pip install -U 'git+https://github.com/cocodataset/cocoapi.git#subdirectory=PythonAPI'\n",
        "# Detectron2\n",
        "!pip install detectron2==0.1.3 -f https://dl.fbaipublicfiles.com/detectron2/wheels/cu101/torch1.5/index.html"
      ]
    },
    {
      "cell_type": "markdown",
      "metadata": {
        "id": "KIgXoMVjmcZ1"
      },
      "source": [
        "### Import von wichtigen Modulen"
      ]
    },
    {
      "cell_type": "code",
      "execution_count": null,
      "metadata": {
        "colab": {
          "base_uri": "https://localhost:8080/"
        },
        "id": "3WRRRTqKou-q",
        "outputId": "8f8743fd-f8f5-4cd4-a824-837992a53d2f"
      },
      "outputs": [],
      "source": [
        "!nvcc --version"
      ]
    },
    {
      "cell_type": "code",
      "execution_count": null,
      "metadata": {
        "id": "hT4LKBjhmcZ1"
      },
      "outputs": [],
      "source": [
        "import copy\n",
        "import cv2\n",
        "import detectron2\n",
        "import matplotlib.pyplot as plt\n",
        "import numpy as np\n",
        "import os\n",
        "import pickle\n",
        "import random\n",
        "import torch, torchvision\n",
        "\n",
        "from detectron2 import model_zoo\n",
        "from detectron2.config import get_cfg\n",
        "from detectron2.data import build_detection_train_loader, MetadataCatalog\n",
        "from detectron2.data import detection_utils as utils\n",
        "from detectron2.data import transforms as T\n",
        "from detectron2.data.catalog import DatasetCatalog\n",
        "from detectron2.data.datasets import register_coco_instances\n",
        "from detectron2.engine import DefaultPredictor\n",
        "from detectron2.engine import DefaultTrainer\n",
        "from detectron2.evaluation import COCOEvaluator\n",
        "from detectron2.utils.logger import setup_logger\n",
        "from detectron2.utils.visualizer import Visualizer\n",
        "\n",
        "from google.colab import files\n",
        "from google.colab.patches import cv2_imshow\n",
        "\n",
        "from skimage.util import random_noise"
      ]
    },
    {
      "cell_type": "code",
      "execution_count": null,
      "metadata": {
        "colab": {
          "base_uri": "https://localhost:8080/"
        },
        "id": "UpkmQiWuvhr6",
        "outputId": "abb69b60-4a6e-4dde-a299-b3a773e416b8"
      },
      "outputs": [],
      "source": [
        "print(torch.__version__)\n",
        "print(torchvision.__version__)"
      ]
    },
    {
      "cell_type": "markdown",
      "metadata": {
        "id": "e3FmUk98mcZ2"
      },
      "source": [
        "### Download der Datensatzes aus GitHub"
      ]
    },
    {
      "cell_type": "code",
      "execution_count": null,
      "metadata": {
        "colab": {
          "base_uri": "https://localhost:8080/"
        },
        "id": "k_D9neImmcZ3",
        "outputId": "5af392d1-8df4-4984-dea4-59478951b3c4"
      },
      "outputs": [],
      "source": [
        "!curl -L \"https://app.roboflow.com/ds/2wDxw552ZJ?key=P7pSLXDYkB\" > dataset.zip; unzip dataset.zip; rm dataset.zip"
      ]
    },
    {
      "cell_type": "markdown",
      "metadata": {
        "id": "l9mJGZGHmcZ3"
      },
      "source": [
        "### Registrierung des Datensatzes an Detectron2"
      ]
    },
    {
      "cell_type": "code",
      "execution_count": null,
      "metadata": {
        "id": "1RIoSl2mmcZ4"
      },
      "outputs": [],
      "source": [
        "DatasetCatalog.clear()\n",
        "register_coco_instances(\"datasetTrain\", {}, \"/content/train/_annotations.coco.json\", \"/content/train\")\n",
        "register_coco_instances(\"datasetValidate\", {}, \"/content/valid/_annotations.coco.json\", \"/content/valid\")"
      ]
    },
    {
      "cell_type": "markdown",
      "metadata": {
        "id": "QYV29TYMmcZ4"
      },
      "source": [
        "### Visualisierung der Trainingsdaten"
      ]
    },
    {
      "cell_type": "code",
      "execution_count": null,
      "metadata": {
        "colab": {
          "base_uri": "https://localhost:8080/",
          "height": 1000
        },
        "id": "qB-SpMZgmcZ5",
        "outputId": "39d54b04-cc72-44f9-d005-8118d454febf"
      },
      "outputs": [],
      "source": [
        "trainMetadata = MetadataCatalog.get(\"datasetTrain\")\n",
        "trainDataDict = DatasetCatalog.get(\"datasetTrain\")\n",
        "\n",
        "for sample in random.sample(trainDataDict, 3):\n",
        "    image = cv2.imread(sample[\"file_name\"])\n",
        "    visualizer = Visualizer(image[:, :, ::-1], metadata = trainMetadata, scale = 2)\n",
        "    visualizedImage = visualizer.draw_dataset_dict(sample)\n",
        "    cv2_imshow(visualizedImage.get_image()[:, :, ::-1])"
      ]
    },
    {
      "cell_type": "markdown",
      "metadata": {
        "id": "AfO1TpBamcZ7"
      },
      "source": [
        "### COCOTrainer zur Evaluierung"
      ]
    },
    {
      "cell_type": "code",
      "execution_count": null,
      "metadata": {
        "id": "rdOdG5QamcZ7"
      },
      "outputs": [],
      "source": [
        "class COCOTrainer(DefaultTrainer):\n",
        "\n",
        "    @classmethod\n",
        "    def build_evaluator(cls, cfg, dataset_name, output_folder=None):\n",
        "\n",
        "      if output_folder is None:\n",
        "        os.makedirs(\"coco_eval\", exist_ok=True)\n",
        "        output_folder = \"coco_eval\"\n",
        "\n",
        "      return COCOEvaluator(dataset_name, cfg, False, output_folder)"
      ]
    },
    {
      "cell_type": "markdown",
      "metadata": {
        "id": "7-qr4yyFmcZ7"
      },
      "source": [
        "### Setup für Faster R-CNN Modell"
      ]
    },
    {
      "cell_type": "code",
      "execution_count": null,
      "metadata": {
        "id": "13hhPWrHmcZ7"
      },
      "outputs": [],
      "source": [
        "# Model Zoo Baselines for Object Detection\n",
        "# https://github.com/facebookresearch/detectron2/blob/master/MODEL_ZOO.md#coco-object-detection-baselines\n",
        "\n",
        "cfg = get_cfg()\n",
        "cfg.merge_from_file(model_zoo.get_config_file(\"COCO-Detection/faster_rcnn_X_101_32x8d_FPN_3x.yaml\"))\n",
        "cfg.DATASETS.TRAIN = (\"datasetTrain\",)\n",
        "cfg.DATASETS.TEST = (\"datasetValidate\",)\n",
        "\n",
        "cfg.DATALOADER.NUM_WORKERS = 4\n",
        "cfg.MODEL.WEIGHTS = model_zoo.get_checkpoint_url(\"COCO-Detection/faster_rcnn_X_101_32x8d_FPN_3x.yaml\")\n",
        "cfg.SOLVER.IMS_PER_BATCH = 4\n",
        "cfg.SOLVER.BASE_LR = 0.001\n",
        "\n",
        "cfg.SOLVER.WARMUP_ITERS = 1000\n",
        "cfg.SOLVER.MAX_ITER = 1000\n",
        "cfg.SOLVER.STEPS = (1000, 1500)\n",
        "cfg.SOLVER.GAMMA = 0.05\n",
        "\n",
        "cfg.MODEL.ROI_HEADS.BATCH_SIZE_PER_IMAGE = 64\n",
        "cfg.MODEL.ROI_HEADS.NUM_CLASSES = 4 # Anzahl der Klassen + 1 (3 Eier Klassen + 1)\n",
        "cfg.MODEL.THINGCLASSES = MetadataCatalog.get(cfg.DATASETS.TRAIN[0]).thing_classes\n",
        "\n",
        "cfg.TEST.EVAL_PERIOD = 500"
      ]
    },
    {
      "cell_type": "markdown",
      "metadata": {
        "id": "ofwuaAyfhihV"
      },
      "source": [
        "### Speichern der Modell-Konfiguration"
      ]
    },
    {
      "cell_type": "code",
      "execution_count": null,
      "metadata": {
        "colab": {
          "base_uri": "https://localhost:8080/"
        },
        "id": "Av1f1osAHIUf",
        "outputId": "206a6d1a-feae-496b-f8a2-8527a6e00210"
      },
      "outputs": [],
      "source": [
        "with open(\"model_cfg.pickle\", 'wb') as f:\n",
        "  pickle.dump(cfg, f, protocol = pickle.HIGHEST_PROTOCOL)"
      ]
    },
    {
      "cell_type": "markdown",
      "metadata": {
        "id": "iSjhaAVSmcZ9"
      },
      "source": [
        "### Train the Model!"
      ]
    },
    {
      "cell_type": "code",
      "execution_count": null,
      "metadata": {
        "colab": {
          "base_uri": "https://localhost:8080/"
        },
        "id": "U1P_DKZImcZ9",
        "outputId": "b94982e9-a88c-4ad6-b521-d52d20b0b0a5"
      },
      "outputs": [],
      "source": [
        "os.makedirs(cfg.OUTPUT_DIR, exist_ok = True)\n",
        "trainer = COCOTrainer(cfg)\n",
        "trainer.resume_or_load(resume = False)\n",
        "trainer.train()"
      ]
    },
    {
      "cell_type": "markdown",
      "metadata": {
        "id": "O836lboomcZ9"
      },
      "source": [
        "### Tensorboard für Ergebnisse"
      ]
    },
    {
      "cell_type": "code",
      "execution_count": null,
      "metadata": {
        "id": "8DQsxRiAmcZ9"
      },
      "outputs": [],
      "source": [
        "%load_ext tensorboard\n",
        "%tensorboard --logdir output"
      ]
    },
    {
      "cell_type": "markdown",
      "metadata": {
        "id": "bDBTjAGTwnC3"
      },
      "source": [
        "### Exportieren des Modells"
      ]
    },
    {
      "cell_type": "code",
      "execution_count": null,
      "metadata": {
        "id": "UW--cjKvYt1n"
      },
      "outputs": [],
      "source": [
        "!zip -r /content/modelOutput.zip /content/coco_eval /content/output model_cfg.pickle\n",
        "files.download(\"/content/modelOutput.zip\")"
      ]
    }
  ],
  "metadata": {
    "accelerator": "GPU",
    "colab": {
      "collapsed_sections": [],
      "name": "eggModel.ipynb",
      "provenance": []
    },
    "gpuClass": "standard",
    "kernelspec": {
      "display_name": "Python 3.9.5 64-bit",
      "language": "python",
      "name": "python3"
    },
    "language_info": {
      "name": "python",
      "version": "3.9.5"
    },
    "vscode": {
      "interpreter": {
        "hash": "366801037ae6f526dc29e141ec71dc71e1fc4c0521f04b86e91afa7c89b36b56"
      }
    }
  },
  "nbformat": 4,
  "nbformat_minor": 0
}
